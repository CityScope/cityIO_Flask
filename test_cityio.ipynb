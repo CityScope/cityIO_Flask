{
 "cells": [
  {
   "cell_type": "code",
   "execution_count": null,
   "id": "74b138f9-5e98-4aa3-b0c0-53f61afe9dea",
   "metadata": {},
   "outputs": [],
   "source": [
    "import requests\n",
    "import json"
   ]
  },
  {
   "cell_type": "markdown",
   "id": "c155e8e1-0dfc-43f2-a22b-4322f7d94c0a",
   "metadata": {},
   "source": [
    "Run cityIO_lite.py in terminal before using test notebook"
   ]
  },
  {
   "cell_type": "code",
   "execution_count": null,
   "id": "db1a94db-054c-4187-8f90-f75c2d0d40b2",
   "metadata": {},
   "outputs": [],
   "source": [
    "host='http://127.0.0.1:5000/'"
   ]
  },
  {
   "cell_type": "code",
   "execution_count": null,
   "id": "790dadc2-fa99-435a-915f-4caec8576603",
   "metadata": {},
   "outputs": [],
   "source": [
    "table_name='hcm'"
   ]
  },
  {
   "cell_type": "markdown",
   "id": "555610b9-d00e-44bc-b6bc-526f569fe6e4",
   "metadata": {},
   "source": [
    "# Get Request"
   ]
  },
  {
   "cell_type": "markdown",
   "id": "53c35ba8-33d4-47e0-9981-61704dd9c25a",
   "metadata": {},
   "source": [
    "### Top level field"
   ]
  },
  {
   "cell_type": "code",
   "execution_count": null,
   "id": "cda9911c-1a43-4c48-ace2-f55b23809b75",
   "metadata": {},
   "outputs": [],
   "source": [
    "headers = {'Content-Type': 'application/json'}\n",
    "url=host+'api/table/{}'.format(table_name)\n",
    "r = requests.get(url+'/GEOGRID', headers=headers)\n",
    "r"
   ]
  },
  {
   "cell_type": "code",
   "execution_count": null,
   "id": "ccb80d5e-4611-4bed-849d-2538312ccc55",
   "metadata": {},
   "outputs": [],
   "source": [
    "geogrid=r.json()"
   ]
  },
  {
   "cell_type": "code",
   "execution_count": null,
   "id": "fa901ff2-4fdf-4f47-90a4-d4804530f101",
   "metadata": {},
   "outputs": [],
   "source": [
    "geogrid.keys()"
   ]
  },
  {
   "cell_type": "markdown",
   "id": "9a3e9b6f-65a2-4114-9f6f-a364b6ce6868",
   "metadata": {},
   "source": [
    "Agnostic to headers and trailing slashes"
   ]
  },
  {
   "cell_type": "code",
   "execution_count": null,
   "id": "3913d7f0-908f-4c32-81a0-35685b9b27fa",
   "metadata": {},
   "outputs": [],
   "source": [
    "r = requests.get(url+'/GEOGRID/')\n",
    "r"
   ]
  },
  {
   "cell_type": "markdown",
   "id": "9a4bd594-a08f-46a7-8c44-75fc775efb10",
   "metadata": {},
   "source": [
    "### Sub-field"
   ]
  },
  {
   "cell_type": "code",
   "execution_count": null,
   "id": "28293873-2589-4119-b6d9-58b81f90f208",
   "metadata": {},
   "outputs": [],
   "source": [
    "r = requests.get(url+'/GEOGRID/properties')\n",
    "r"
   ]
  },
  {
   "cell_type": "code",
   "execution_count": null,
   "id": "27f4e65f-989e-4070-bb3a-91221182bee3",
   "metadata": {},
   "outputs": [],
   "source": [
    "properties=r.json()\n",
    "properties"
   ]
  },
  {
   "cell_type": "markdown",
   "id": "1bb5adae-e3c3-4ee2-8771-db4f93dae3d9",
   "metadata": {},
   "source": [
    "# Post Request to existing field"
   ]
  },
  {
   "cell_type": "code",
   "execution_count": null,
   "id": "96b2f56c-c833-4da7-952c-ee1b9cb4c0fe",
   "metadata": {},
   "outputs": [],
   "source": [
    "geogrid['properties']['types']={\n",
    "    'Commercial': {'color': '#fdbf6f', 'height': [10], 'interactive': 'Web'},\n",
    "    'Education': {'color': '#a6cee3', 'height': [10], 'interactive': 'Web'}}"
   ]
  },
  {
   "cell_type": "code",
   "execution_count": null,
   "id": "2e4571c9-d62d-4e37-8688-834d83dc8555",
   "metadata": {},
   "outputs": [],
   "source": [
    "r = requests.post(url+'/GEOGRID', data=json.dumps(geogrid))\n",
    "r"
   ]
  },
  {
   "cell_type": "markdown",
   "id": "ab3db9ed-0af8-4a57-a8f1-f6c615df9332",
   "metadata": {},
   "source": [
    "# Get (updated) sub-sub-field"
   ]
  },
  {
   "cell_type": "code",
   "execution_count": null,
   "id": "3103771b-8efd-443a-a88b-f4c02944e91c",
   "metadata": {},
   "outputs": [],
   "source": [
    "r = requests.get(url+'/GEOGRID/properties/types/')\n",
    "r"
   ]
  },
  {
   "cell_type": "code",
   "execution_count": null,
   "id": "fd7428d1-fcb1-4c79-9c25-f4cbb971a79d",
   "metadata": {},
   "outputs": [],
   "source": [
    "r.json()"
   ]
  },
  {
   "cell_type": "markdown",
   "id": "58550552-02ff-47e9-9605-cce269cd3549",
   "metadata": {},
   "source": [
    "# Post Request to new field"
   ]
  },
  {
   "cell_type": "code",
   "execution_count": null,
   "id": "18a2e0b0-38bb-413f-b311-f90ea96d3cd9",
   "metadata": {},
   "outputs": [],
   "source": [
    "test_data={'foo': 'bar'}\n",
    "r = requests.post(url+'/test/', data=json.dumps(test_data))\n",
    "r"
   ]
  },
  {
   "cell_type": "code",
   "execution_count": null,
   "id": "ab2830e8-57f8-41b8-937f-57c570b669ed",
   "metadata": {},
   "outputs": [],
   "source": [
    "r = requests.get(url+'/test')\n",
    "r"
   ]
  },
  {
   "cell_type": "code",
   "execution_count": null,
   "id": "db542eb9-528c-4231-b16b-ef125184f4f7",
   "metadata": {},
   "outputs": [],
   "source": [
    "r.json()"
   ]
  },
  {
   "cell_type": "markdown",
   "id": "e0e7d607-b197-4b20-b4b4-7b3160cfa49c",
   "metadata": {},
   "source": [
    "# Test updating of hashes"
   ]
  },
  {
   "cell_type": "code",
   "execution_count": null,
   "id": "fe689686-096d-44f8-84e5-f0cba1dcf819",
   "metadata": {},
   "outputs": [],
   "source": [
    "r = requests.post(url+'/indicators', data=json.dumps({'bar': 'foo'}))\n",
    "r"
   ]
  },
  {
   "cell_type": "code",
   "execution_count": null,
   "id": "360e6051-5a7d-4a12-9184-d17d7d178ed8",
   "metadata": {},
   "outputs": [],
   "source": [
    "r = requests.get(url+'/meta')\n",
    "r"
   ]
  },
  {
   "cell_type": "code",
   "execution_count": null,
   "id": "b53ce223-ae22-48bc-a09a-380042e29390",
   "metadata": {},
   "outputs": [],
   "source": [
    "r.json()"
   ]
  },
  {
   "cell_type": "code",
   "execution_count": null,
   "id": "a6b824af-34bc-45cc-b038-2fd73c35ab8e",
   "metadata": {},
   "outputs": [],
   "source": [
    "r = requests.post(url+'/indicators', data=json.dumps({'foo': 'bar'}))\n",
    "r"
   ]
  },
  {
   "cell_type": "code",
   "execution_count": null,
   "id": "f7194e53-21bc-45d5-87c8-eaed18a49b8f",
   "metadata": {},
   "outputs": [],
   "source": [
    "r = requests.get(url+'/meta')\n",
    "r"
   ]
  },
  {
   "cell_type": "code",
   "execution_count": null,
   "id": "1fd17c68-b7e4-436f-a62a-4aa7b253a9d1",
   "metadata": {},
   "outputs": [],
   "source": [
    "r.json()"
   ]
  },
  {
   "cell_type": "code",
   "execution_count": null,
   "id": "783a5966-6b61-48b5-90ce-682ffb264a4d",
   "metadata": {},
   "outputs": [],
   "source": []
  }
 ],
 "metadata": {
  "kernelspec": {
   "display_name": "Python 3.8.9 ('cityio')",
   "language": "python",
   "name": "python3"
  },
  "language_info": {
   "codemirror_mode": {
    "name": "ipython",
    "version": 3
   },
   "file_extension": ".py",
   "mimetype": "text/x-python",
   "name": "python",
   "nbconvert_exporter": "python",
   "pygments_lexer": "ipython3",
   "version": "3.8.9"
  },
  "vscode": {
   "interpreter": {
    "hash": "3c658b6c5b677841ad3a7ef569137c490e99ffd165619659d88b6b09a9230b48"
   }
  }
 },
 "nbformat": 4,
 "nbformat_minor": 5
}
